{
 "cells": [
  {
   "cell_type": "markdown",
   "metadata": {},
   "source": [
    "Code for **\"Phase Retrieval\"** (testing wrong phase)"
   ]
  },
  {
   "cell_type": "markdown",
   "metadata": {},
   "source": [
    "# Import libs"
   ]
  },
  {
   "cell_type": "code",
   "execution_count": null,
   "metadata": {},
   "outputs": [],
   "source": [
    "from __future__ import print_function\n",
    "import matplotlib.pyplot as plt\n",
    "%matplotlib inline\n",
    "\n",
    "import os\n",
    "import numpy as np\n",
    "from models.resnet import ResNet\n",
    "from models.unet import UNet\n",
    "from models.skip import skip\n",
    "import torch\n",
    "import torch.optim\n",
    "from utils.inpainting_utils import *\n",
    "from utils.utils import *"
   ]
  },
  {
   "cell_type": "markdown",
   "metadata": {},
   "source": [
    "# Misc. Setup"
   ]
  },
  {
   "cell_type": "code",
   "execution_count": null,
   "metadata": {},
   "outputs": [],
   "source": [
    "# Enable GPU usage\n",
    "torch.backends.cudnn.enabled = True\n",
    "torch.backends.cudnn.benchmark =True\n",
    "dtype = torch.cuda.FloatTensor\n",
    "\n",
    "# Change cwd\n",
    "directory = \"/home/justin/Github/deep-image-prior/\"\n",
    "os.chdir(directory)\n",
    "\n",
    "# Misc.\n",
    "PLOT = True\n",
    "imsize = -1\n",
    "dim_div_by = 64"
   ]
  },
  {
   "cell_type": "markdown",
   "metadata": {},
   "source": [
    "# Load Image and Measurement"
   ]
  },
  {
   "cell_type": "code",
   "execution_count": null,
   "metadata": {},
   "outputs": [],
   "source": [
    "# Set Image\n",
    "img_type = 'grayscale'\n",
    "img_path  = 'data/inpainting/vase.png'\n",
    "_, img_np = get_image(img_path, imsize, img_type)\n",
    "img_var = np_to_torch(img_np, True).type(dtype)\n",
    "\n",
    "# Print Image\n",
    "plt.imshow(img_np[0], cmap = 'gray')\n",
    "plt.show()\n",
    "\n",
    "# Generate Gaussian Matrix (A)\n",
    "m = int(float(np.shape(img_np)[1])/2.0)\n",
    "n = np.shape(img_np)[1]\n",
    "mu = 0.0\n",
    "sigma = 0.25\n",
    "\n",
    "A = mu + sigma*np.random.randn(m,1,n)\n",
    "A_var = np_to_torch(A, False).type(dtype)\n",
    "\n",
    "# Set Measurement\n",
    "measurement = np.tensordot(A,img_np,2)\n",
    "\n",
    "# Flip phase in ~n places (sign)\n",
    "N = np.prod(measurement.shape)\n",
    "num_flips = N/8\n",
    "p0 = num_flips/N; p1 = 1-p0\n",
    "flip_choices = np.random.choice([-1, 1], size=measurement.shape, p=[p0, p1])\n",
    "ones = np.ones(measurement.shape)\n",
    "flip_matrix = np.multiply(flip_choices,ones)\n",
    "measurement = np.multiply(flip_matrix,measurement)\n",
    "\n",
    "unique, counts = np.unique(flip_matrix, return_counts=True)\n",
    "print(dict(zip(unique, counts)))\n",
    "\n",
    "# # Randomize Phase (sign)\n",
    "# measurement = np.absolute(measurement)\n",
    "# random_sign = np.random.choice([-1,1],size=measurement.shape)\n",
    "# measurement = np.multiply(random_sign,measurement)\n",
    "\n",
    "# Save Measurement\n",
    "measurement_var = np_to_torch(measurement, False).type(dtype)"
   ]
  },
  {
   "cell_type": "markdown",
   "metadata": {},
   "source": [
    "# Setup"
   ]
  },
  {
   "cell_type": "code",
   "execution_count": null,
   "metadata": {},
   "outputs": [],
   "source": [
    "# Optimization Setup\n",
    "pad = 'reflection' # 'zero'\n",
    "OPT_OVER = 'net'\n",
    "OPTIMIZER = 'adam'\n",
    "NET_TYPE = 'skip_depth6' # one of skip_depth4|skip_depth2|UNET|ResNet\n",
    "\n",
    "\n",
    "#--------------------------\n",
    "# Network Arch. Setup\n",
    "#--------------------\n",
    "INPUT = 'meshgrid'\n",
    "input_depth = 2                   # depth of input noise\n",
    "output_depth = 1\n",
    "LR = 0.01                         # learning rate\n",
    "num_iter = 1000\n",
    "param_noise = False               # add noise to net params during optimization \n",
    "show_every = 100\n",
    "figsize = 5\n",
    "reg_noise_std = 0.03              # add noise to net input during optimization\n",
    "\n",
    "num1 = 5 # 5\n",
    "num2 = 3 # 3\n",
    "num3 = 128 # 128\n",
    "\n",
    "net = skip(input_depth, output_depth, \n",
    "           num_channels_down = [num3] * num1,\n",
    "           num_channels_up   = [num3] * num1,\n",
    "           num_channels_skip = [0] * num1,  \n",
    "           upsample_mode='nearest', filter_skip_size=1, filter_size_up=num2, filter_size_down=num2,\n",
    "           need_sigmoid=True, need_bias=True, pad=pad, act_fun='LeakyReLU').type(dtype)\n",
    "\n",
    "\n",
    "net = net.type(dtype)\n",
    "img_dim = img_np.shape[1:]\n",
    "net_input = get_noise(input_depth, INPUT, img_dim).type(dtype)\n",
    "#--------------------------\n",
    "\n",
    "# Compute number of parameters\n",
    "s  = sum(np.prod(list(p.size())) for p in net.parameters())\n",
    "print ('Number of params: %d' % s)\n",
    "\n",
    "# Loss\n",
    "mse = torch.nn.MSELoss().type(dtype)"
   ]
  },
  {
   "cell_type": "markdown",
   "metadata": {},
   "source": [
    "# Main loop"
   ]
  },
  {
   "cell_type": "code",
   "execution_count": null,
   "metadata": {
    "scrolled": true
   },
   "outputs": [],
   "source": [
    "i = 0\n",
    "\n",
    "#----------------------------------\n",
    "def dip_function():\n",
    "\n",
    "    global i\n",
    "    \n",
    "    # Add noise to network parameters / network input\n",
    "    if param_noise:\n",
    "        for n in [x for x in net.parameters() if len(x.size()) == 4]:\n",
    "            n = n + n.detach().clone().normal_() * n.std() / 50\n",
    "            \n",
    "    net_input = net_input_saved\n",
    "    if reg_noise_std > 0:\n",
    "        net_input = net_input_saved + (noise.normal_() * reg_noise_std)\n",
    "        \n",
    "    net_input_np = torch_to_np(net_input)\n",
    "    \n",
    "    # Output of network\n",
    "    out = net(net_input)   \n",
    "    out_np = torch_to_np(out)\n",
    "    \n",
    "    # Calculate measurement estimate |A*net_out|\n",
    "    new_shape = tuple(out.shape[1:])    # eliminate unnecessary dimension\n",
    "    out = out.view(new_shape)           # must reshape before tensordot\n",
    "    measurement_hat = tensordot_pytorch(A_var,out,axes=2)\n",
    "    \n",
    "    # Define Loss (avg. |A*net_out-B**A*image|l2)\n",
    "    total_loss = mse(measurement_hat, measurement_var)\n",
    "    total_loss.backward()\n",
    "    \n",
    "    # Print Progress\n",
    "    print ('Iteration %05d    Loss %f' % (i, total_loss.item()), '\\r', end='')\n",
    "    if  PLOT and i % show_every == 0:\n",
    "        \n",
    "        dir_ = \"./plots/wrong_phase/\"\n",
    "        name = \"reconst_iter: \"+str(i)+\".png\"\n",
    "        plot_image_grid([np.clip(out_np, 0, 1)], factor=figsize,\n",
    "                        nrow=1, save=True, directory=dir_, filename=name)\n",
    "        \n",
    "    i += 1\n",
    "    return total_loss\n",
    "\n",
    "#----------------------------------\n",
    "\n",
    "# Final Setup\n",
    "net_input_saved = net_input.detach().clone()\n",
    "noise = net_input.detach().clone()\n",
    "\n",
    "# Optimize\n",
    "p = get_params(OPT_OVER, net, net_input)\n",
    "losses = optimize(OPTIMIZER, p, dip_function, LR, num_iter)"
   ]
  },
  {
   "cell_type": "code",
   "execution_count": null,
   "metadata": {},
   "outputs": [],
   "source": [
    "# Plot Final Estimate\n",
    "out_np = torch_to_np(net(net_input))\n",
    "plot_image_grid([out_np], factor=5);\n",
    "\n",
    "# Plot Loss vs Iteration\n",
    "plt.plot(np.arange(1,num_iter+1),losses)\n",
    "directory = \"./plots/wrong_phase/\"\n",
    "plt.savefig(directory+'loss vs iteration')\n",
    "plt.show()"
   ]
  },
  {
   "cell_type": "code",
   "execution_count": null,
   "metadata": {},
   "outputs": [],
   "source": [
    "# Save Data\n",
    "\n",
    "import pickle\n",
    "my_object = losses\n",
    "filename = directory + \"losses.obj\"\n",
    "\n",
    "with open(filename, 'wb') as fp:\n",
    "    pickle.dump(my_object, fp)"
   ]
  },
  {
   "cell_type": "code",
   "execution_count": null,
   "metadata": {},
   "outputs": [],
   "source": [
    "# Plot Measurements\n",
    "\n",
    "print(measurement_var.shape)\n",
    "plt.imshow(measurement_var, cmap = 'gray')\n",
    "plt.show()"
   ]
  },
  {
   "cell_type": "code",
   "execution_count": null,
   "metadata": {
    "scrolled": true
   },
   "outputs": [],
   "source": [
    "# Analyze why phase retrieval (approx. =) lin. comp. sensing\n",
    "\n",
    "print(measurement_var)"
   ]
  },
  {
   "cell_type": "code",
   "execution_count": null,
   "metadata": {},
   "outputs": [],
   "source": [
    "# Load Previous Run\n",
    "filename = \"./plots/lin_comp_sense/\" + \"losses.obj\"\n",
    "with open (filename, 'rb') as fp:\n",
    "    losses_normal = pickle.load(fp)\n",
    "losses_normal = losses_normal[0:num_iter]\n",
    "losses_wrong = losses\n",
    "\n",
    "# Plot Losses simultaneously\n",
    "\n",
    "plt.plot(np.arange(1,num_iter+1),losses_normal)\n",
    "plt.plot(np.arange(1,num_iter+1),losses_wrong)\n",
    "\n",
    "import matplotlib.patches as mpatches\n",
    "directory = \"./plots/\"\n",
    "orange_patch = mpatches.Patch(color='blue', label='normal_phase')\n",
    "blue_patch = mpatches.Patch(color='orange', label='wrong_phase')\n",
    "plt.legend(handles=[orange_patch,blue_patch])\n",
    "plt.xlabel('iteration')\n",
    "plt.ylabel('avg. |A*net_out-B**(A*image)|l2')\n",
    "plt.savefig(directory+'loss vs iteration(wrong_phase)')\n",
    "\n",
    "plt.show()"
   ]
  },
  {
   "cell_type": "code",
   "execution_count": null,
   "metadata": {},
   "outputs": [],
   "source": []
  }
 ],
 "metadata": {
  "kernelspec": {
   "display_name": "Python [default]",
   "language": "python",
   "name": "python3"
  },
  "language_info": {
   "codemirror_mode": {
    "name": "ipython",
    "version": 3
   },
   "file_extension": ".py",
   "mimetype": "text/x-python",
   "name": "python",
   "nbconvert_exporter": "python",
   "pygments_lexer": "ipython3",
   "version": "3.6.6"
  }
 },
 "nbformat": 4,
 "nbformat_minor": 2
}
